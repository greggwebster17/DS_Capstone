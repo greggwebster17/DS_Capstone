{
 "cells": [
  {
   "cell_type": "markdown",
   "metadata": {},
   "source": [
    "# Sparkify Churn Prediction\n",
    "\n",
    "Aim of this project is to predict users who churn from using the Sparkify music application. The first step involves extracting, cleaning and creating features (to be used for predicting churn). Plots of the features are then produced. A model is then fitted on the data and assessed. The primary metrics used to assess the performance of the model are the Gini and AUC measures.\n",
    "\n",
    "### 1. Data Preparation\n",
    "\n",
    "Extract, clean and create features using the data. The features are created by userId. The data is then rolled up by calendar date to get features for each user by day. This means that when the model is productionised, it gives a prediction for churning in that day given the features in the model for the specific user on that day. "
   ]
  },
  {
   "cell_type": "code",
   "execution_count": 2,
   "metadata": {},
   "outputs": [],
   "source": [
    "######################################## Import Libraries ########################################\n",
    "\n",
    "import pandas as pd\n",
    "\n",
    "from pyspark.sql import SparkSession\n",
    "from pyspark.sql.functions import avg, col, concat, desc, explode, lit, min, max, split, udf\n",
    "from pyspark.sql.types import IntegerType\n",
    "\n",
    "from pyspark.ml import Pipeline\n",
    "from pyspark.ml.classification import LogisticRegression\n",
    "from pyspark.ml.evaluation import BinaryClassificationEvaluator, MulticlassClassificationEvaluator\n",
    "from pyspark.ml.feature import CountVectorizer, IDF, Normalizer, PCA, RegexTokenizer, StandardScaler, StopWordsRemover, StringIndexer, VectorAssembler\n",
    "from pyspark.ml.regression import LinearRegression\n",
    "from pyspark.ml.tuning import CrossValidator, ParamGridBuilder\n",
    "import matplotlib.pyplot as plt\n",
    "import re\n",
    "\n",
    "#################################### Create a Spark session and Read the data ####################################\n",
    "\n",
    "spark = SparkSession.builder \\\n",
    "    .master(\"local\") \\\n",
    "    .appName(\"Creating Features\") \\\n",
    "    .getOrCreate()\n",
    "\n",
    "sparkify_data = 'mini_sparkify_event_data.json'\n",
    "\n",
    "df = spark.read.json(sparkify_data)\n",
    "\n",
    "df.createOrReplaceTempView(\"sparkify_data\")\n",
    "\n",
    "######################################## Clean the data ########################################\n",
    "\n",
    "# There is no missing sessionId's, there are cases with missing userId \n",
    "# drop these cases as they don't relate to uses who use the music app\n",
    "\n",
    "df_clean = spark.sql('''\n",
    "          SELECT *\n",
    "          FROM sparkify_data\n",
    "          where userId <> \"\" or sessionId <> \"\"\n",
    "          '''\n",
    "          )\n",
    "df_clean.createOrReplaceTempView(\"sparkify_data_c\")\n",
    "\n",
    "######################################## Create Date and Targets ########################################\n",
    "\n",
    "base_data = spark.sql('''\n",
    "\n",
    "              SELECT  *,\n",
    "    \n",
    "              ---format dates---\n",
    "              from_unixtime(ts/1000,'YYYY-MM-dd') as date,\n",
    "              month(from_unixtime(ts/1000,'YYYY-MM-dd')) as month,\n",
    "              year(from_unixtime(ts/1000,'YYYY-MM-dd')) as year,\n",
    "              day(from_unixtime(ts/1000,'YYYY-MM-dd')) as day,\n",
    "\n",
    "                  case when page = 'Cancellation Confirmation' then 1\n",
    "                  else 0 end as cancel,\n",
    "\n",
    "                  case when page = 'Downgrade' then 1\n",
    "                  else 0 end as downgrade\n",
    "\n",
    "              FROM sparkify_data_c \n",
    "              \n",
    "          '''\n",
    "          )\n",
    "\n",
    "base_data.createOrReplaceTempView(\"sparkify_base_data_c\")\n",
    "\n",
    "\n",
    "######################################## Feature Engineering ########################################\n",
    "\n",
    "base_data2 = spark.sql('''\n",
    "              SELECT *, \n",
    "              \n",
    "              max(cancel) over (\n",
    "              partition by userId\n",
    "              order by ts\n",
    "              ROWS BETWEEN UNBOUNDED PRECEDING AND CURRENT ROW\n",
    "              ) as ever_cancel,\n",
    "              \n",
    "              sum(case when page = 'NextSong' then 1 else 0 end) over (\n",
    "              partition by userId\n",
    "              order by ts\n",
    "              ROWS BETWEEN UNBOUNDED PRECEDING AND CURRENT ROW\n",
    "              ) as cum_songs_played,\n",
    "      \n",
    "              sum(case when page = 'NextSong' then 1 else 0 end) over (\n",
    "              partition by userId,date\n",
    "              order by ts\n",
    "              ROWS BETWEEN UNBOUNDED PRECEDING AND CURRENT ROW\n",
    "              ) as cum_songs_played_by_date,\n",
    "      \n",
    "              sum(case when page = 'Add to Playlist' then 1 else 0 end) over (\n",
    "              partition by userId\n",
    "              order by ts\n",
    "              ROWS BETWEEN UNBOUNDED PRECEDING AND CURRENT ROW\n",
    "              ) as cum_songs_added_to_play_list,      \n",
    "   \n",
    "              sum(case when page = 'Logout' then 1 else 0 end) over (\n",
    "              partition by userId\n",
    "              order by ts\n",
    "              ROWS BETWEEN UNBOUNDED PRECEDING AND CURRENT ROW\n",
    "              ) as cum_logouts, \n",
    "   \n",
    "              sum(case when page = 'Add Friend' then 1 else 0 end) over (\n",
    "              partition by userId\n",
    "              order by ts\n",
    "              ROWS BETWEEN UNBOUNDED PRECEDING AND CURRENT ROW\n",
    "              ) as cum_friends, \n",
    "\n",
    "              DATEDIFF(date,(min(date) over (\n",
    "              partition by userId\n",
    "              order by ts\n",
    "              ROWS BETWEEN UNBOUNDED PRECEDING AND CURRENT ROW\n",
    "              )))+1 as days_as_user,\n",
    "                         \n",
    "            max(datediff(date,Lag(date, 1) OVER( partition by userId\n",
    "            ORDER BY date ASC))) over (\n",
    "              partition by userId\n",
    "              order by ts\n",
    "              ROWS BETWEEN UNBOUNDED PRECEDING AND CURRENT ROW\n",
    "              ) as max_time_off\n",
    "                            \n",
    "              FROM sparkify_base_data_c     \n",
    "          '''\n",
    "          )\n",
    "base_data2.createOrReplaceTempView(\"sparkify_base_data_c2\")\n",
    "\n",
    "###################### Summarise the data by Day and Create fields for modelling ######################\n",
    "\n",
    "base_data_by_day = spark.sql('''\n",
    "\n",
    "                select userId,date,max(ever_cancel) as ever_cancel,\n",
    "                max(cancel) as cancel,\n",
    "                max(downgrade) as downgrade,\n",
    "                max(cum_songs_played) as cum_songs_played,\n",
    "                max(cum_songs_played_by_date) as songs_played,\n",
    "                max(cum_songs_added_to_play_list) as cum_songs_added_to_play_list,\n",
    "                max(cum_logouts) as cum_logouts,\n",
    "                max(cum_friends) as cum_friends,\n",
    "                max(days_as_user) as days_as_user,\n",
    "                max(max_time_off) as max_time_off,\n",
    "                \n",
    "                datediff(date,Lag(date, 1) OVER( partition by userId\n",
    "                            ORDER BY date ASC)) as time_off,\n",
    "                \n",
    "                Lag(max(cum_songs_played_by_date),1) OVER( partition by userId\n",
    "                            ORDER BY date ASC) as songs_played_p1,\n",
    "   \n",
    "                   Lag(max(cum_songs_played_by_date),2) OVER( partition by userId\n",
    "                            ORDER BY date ASC) as songs_played_p2,\n",
    "   \n",
    "                   Lag(max(cum_songs_played_by_date),3) OVER( partition by userId\n",
    "                            ORDER BY date ASC) as songs_played_p3,\n",
    "                            \n",
    "                    Lag(max(cum_songs_played_by_date),4) OVER( partition by userId\n",
    "                            ORDER BY date ASC) as songs_played_p4,                   \n",
    "   \n",
    "                       Lag(max(cum_songs_played_by_date),5) OVER( partition by userId\n",
    "                            ORDER BY date ASC) as songs_played_p5,\n",
    "                            \n",
    "                     Lag(max(cum_songs_played_by_date),6) OVER( partition by userId\n",
    "                            ORDER BY date ASC) as songs_played_p6 ,\n",
    "                            \n",
    "                 Lag(max(cum_songs_played_by_date),7) OVER( partition by userId\n",
    "                            ORDER BY date ASC) as songs_played_p7 \n",
    "   \n",
    "                from sparkify_base_data_c2\n",
    "                \n",
    "                group by userId,date\n",
    "\n",
    "          '''\n",
    "          )\n",
    "base_data_by_day.createOrReplaceTempView(\"sparkify_base_data_by_day\")\n",
    "\n",
    "################### Create ratio of fields and data to be used for modelling - also full in missings ###################\n",
    "\n",
    "base_data_by_day2 = spark.sql('''\n",
    "\n",
    "                select userId,date,cancel,cancel as label,downgrade,case when time_off is null then 0 else time_off end as time_off,\n",
    "                case when max_time_off is null then 0 else max_time_off end as max_time_off,\n",
    "                case when cum_songs_played is null then 0 else cum_songs_played end as cum_songs_played,\n",
    "                case when cum_songs_added_to_play_list is null then 0 else cum_songs_added_to_play_list end as cum_songs_added_to_play_list,\n",
    "                case when cum_friends is null then 0 else cum_friends end as cum_friends,\n",
    "                case when days_as_user is null then 0 else days_as_user end as days_as_user,\n",
    "                \n",
    "                case when songs_played_p1 is null then 1\n",
    "                    else songs_played/songs_played_p1 end as curr_songs_to_prev_ratio,\n",
    "                case when GREATEST(songs_played_p1,songs_played_p2,songs_played_p3,songs_played_p4,songs_played_p5,\n",
    "                                    songs_played_p6,songs_played_p7) is null then 1 else songs_played/GREATEST(songs_played_p1,songs_played_p2,songs_played_p3,songs_played_p4,songs_played_p5,\n",
    "                                    songs_played_p6,songs_played_p7) end as curr_songs_to_maxLw_ratio\n",
    "                \n",
    "                from sparkify_base_data_by_day\n",
    "\n",
    "          '''\n",
    "          )\n",
    "base_data_by_day2.createOrReplaceTempView(\"sparkify_base_data_by_day2\")\n"
   ]
  },
  {
   "cell_type": "markdown",
   "metadata": {},
   "source": [
    "Description of Features created-\n",
    "\n",
    "max_time_off: Maximum number of days a user didn't use the app for the period prior to the data date. \n",
    "\n",
    "cum_songs_played: Total number of songs played as at the data date.\n",
    "\n",
    "cum_songs_added_to_play_list: Total number of songs added to a play list as at data date. \n",
    "\n",
    "cum_friends: Total friends added as at data date.\n",
    "\n",
    "days_as_user: Number of days user has been present in the data. \n",
    "\n",
    "curr_songs_to_prev_ratio: Songs played current date vs previous day session.\n",
    "\n",
    "curr_songs_to_maxLw_ratio: Current songs played against the maximum songs played in the previous 7 days active. "
   ]
  },
  {
   "cell_type": "markdown",
   "metadata": {},
   "source": [
    "### 1.1 Data Set Analysis \n",
    "\n",
    "Run some checks on the data."
   ]
  },
  {
   "cell_type": "code",
   "execution_count": 3,
   "metadata": {},
   "outputs": [
    {
     "name": "stdout",
     "output_type": "stream",
     "text": [
      "+-----+\n",
      "|count|\n",
      "+-----+\n",
      "| 3124|\n",
      "+-----+\n",
      "\n"
     ]
    }
   ],
   "source": [
    "## Count of Observations \n",
    "\n",
    "spark.sql('''\n",
    "          SELECT COUNT(*) as count\n",
    "          FROM sparkify_base_data_by_day2 \n",
    "          '''\n",
    "          ).show()"
   ]
  },
  {
   "cell_type": "code",
   "execution_count": 4,
   "metadata": {},
   "outputs": [
    {
     "name": "stdout",
     "output_type": "stream",
     "text": [
      "+------------+\n",
      "|unique_users|\n",
      "+------------+\n",
      "|         225|\n",
      "+------------+\n",
      "\n"
     ]
    }
   ],
   "source": [
    "## Count of Users\n",
    "\n",
    "# Unique Users\n",
    "\n",
    "spark.sql('''\n",
    "            \n",
    "            select count(*) as unique_users\n",
    "            from\n",
    "            (     \n",
    "            select distinct userId\n",
    "            from sparkify_base_data_by_day2\n",
    "              )\n",
    "          '''\n",
    "          ).show(1)\n"
   ]
  },
  {
   "cell_type": "code",
   "execution_count": 5,
   "metadata": {},
   "outputs": [
    {
     "name": "stdout",
     "output_type": "stream",
     "text": [
      "+----------+----------+\n",
      "| min(date)| max(date)|\n",
      "+----------+----------+\n",
      "|2018-10-01|2018-12-03|\n",
      "+----------+----------+\n",
      "\n"
     ]
    }
   ],
   "source": [
    "#### See what dates the data span ####\n",
    "\n",
    "spark.sql('''\n",
    "          SELECT distinct min(date),max(date)\n",
    "          FROM sparkify_base_data_by_day2 \n",
    "          '''\n",
    "          ).show(1)"
   ]
  },
  {
   "cell_type": "code",
   "execution_count": 6,
   "metadata": {},
   "outputs": [
    {
     "name": "stdout",
     "output_type": "stream",
     "text": [
      "+--------------------+----------+------------------+-------------+\n",
      "|         cancel_rate|cancel_vol|    downgrade_rate|downgrade_vol|\n",
      "+--------------------+----------+------------------+-------------+\n",
      "|0.016645326504481434|        52|0.3325864276568502|         1039|\n",
      "+--------------------+----------+------------------+-------------+\n",
      "\n"
     ]
    }
   ],
   "source": [
    "### Cancel and Downgrade rate\n",
    "\n",
    "spark.sql('''\n",
    "          SELECT avg(cancel) as cancel_rate, sum(cancel) as cancel_vol, avg(downgrade) as downgrade_rate, sum(downgrade) as downgrade_vol\n",
    "          FROM sparkify_base_data_by_day2\n",
    "          '''\n",
    "          ).show()"
   ]
  },
  {
   "cell_type": "code",
   "execution_count": 14,
   "metadata": {},
   "outputs": [
    {
     "name": "stdout",
     "output_type": "stream",
     "text": [
      "+--------------------+----------+---------+\n",
      "|         cancel_rate|cancel_vol|total_vol|\n",
      "+--------------------+----------+---------+\n",
      "|0.016645326504481434|        52|     3124|\n",
      "+--------------------+----------+---------+\n",
      "\n"
     ]
    }
   ],
   "source": [
    "### Cancel and Downgrade rate\n",
    "\n",
    "spark.sql('''\n",
    "          SELECT avg(cancel) as cancel_rate, sum(cancel) as cancel_vol, count(*) as total_vol\n",
    "          FROM sparkify_base_data_by_day2\n",
    "          '''\n",
    "          ).show()"
   ]
  },
  {
   "cell_type": "markdown",
   "metadata": {},
   "source": [
    "Discussion: The data is small with only 225 unique users in the mini dataset. It was suggested to model cancelations which occur on both paid and free users. There are only 52 cancleations in the data. This will make modelling tricky which such a small number of cancelations. The next section analyses the features against the cancelation rate to find promosing features. "
   ]
  },
  {
   "cell_type": "markdown",
   "metadata": {},
   "source": [
    "### 2. Feature Trend Analysis\n",
    "\n",
    "Plot cancel rate and volume with the created features to gain in intital understanding of the data and which features might be the best for predicting churn. "
   ]
  },
  {
   "cell_type": "code",
   "execution_count": 10,
   "metadata": {},
   "outputs": [
    {
     "data": {
      "text/plain": [
       "Text(0.5,1,'curr_songs_to_maxLw_ratio')"
      ]
     },
     "execution_count": 10,
     "metadata": {},
     "output_type": "execute_result"
    },
    {
     "data": {
      "image/png": "[encoded data removed]",
      "text/plain": [
       "<matplotlib.figure.Figure at 0x7fd42c4a8eb8>"
      ]
     },
     "metadata": {
      "needs_background": "light"
     },
     "output_type": "display_data"
    }
   ],
   "source": [
    "pdf = spark.sql('''\n",
    "              SELECT round(curr_songs_to_maxLw_ratio/0.2,0)*0.2 as curr_songs_to_maxLw_ratio, \n",
    "                  avg(cancel) as cancel_rate, avg(downgrade) as downgrade_rate,\n",
    "                  count(*) as vol\n",
    "              FROM sparkify_base_data_by_day2\n",
    "              group by round(curr_songs_to_maxLw_ratio/0.2,0)*0.2\n",
    "              order by round(curr_songs_to_maxLw_ratio/0.2,0)*0.2\n",
    "          '''\n",
    "          ).toPandas()\n",
    "\n",
    "pdf = pdf[pdf['curr_songs_to_maxLw_ratio']<2.5]\n",
    "pdf = pdf.set_index('curr_songs_to_maxLw_ratio')\n",
    "#pdf.plot()\n",
    "\n",
    "plt.figure()\n",
    "pdf.cancel_rate.plot()\n",
    "plt.ylabel('cancel rate')\n",
    "pdf.vol.plot(secondary_y=True, style='g')\n",
    "plt.ylabel('volume')\n",
    "plt.title('curr_songs_to_maxLw_ratio')"
   ]
  },
  {
   "cell_type": "markdown",
   "metadata": {},
   "source": [
    "This field gives an indication of whether a user is increasing or decreasing usage. Below 1 means usage decreasing, and above 1 means usage increasing. There appears to be a weak trend with decreasing usage giving more chance of cancelation."
   ]
  },
  {
   "cell_type": "code",
   "execution_count": 75,
   "metadata": {},
   "outputs": [
    {
     "data": {
      "text/plain": [
       "Text(0.5,1,'cum_songs_played')"
      ]
     },
     "execution_count": 75,
     "metadata": {},
     "output_type": "execute_result"
    },
    {
     "data": {
      "image/png": "[encoded data removed]",
      "text/plain": [
       "<matplotlib.figure.Figure at 0x7f0e21a264e0>"
      ]
     },
     "metadata": {
      "needs_background": "light"
     },
     "output_type": "display_data"
    }
   ],
   "source": [
    "pdf = spark.sql('''\n",
    "              SELECT round(cum_songs_played/1000,0)*1000 as cum_songs_played, \n",
    "                  avg(cancel) as cancel_rate, avg(downgrade) as downgrade_rate,\n",
    "                  count(*) as vol\n",
    "              FROM sparkify_base_data_by_day2\n",
    "              group by round(cum_songs_played/1000,0)*1000\n",
    "              order by round(cum_songs_played/1000,0)*1000\n",
    "          '''\n",
    "          ).toPandas()\n",
    "\n",
    "pdf = pdf.set_index('cum_songs_played')\n",
    "#pdf.plot()\n",
    "\n",
    "plt.figure()\n",
    "pdf.cancel_rate.plot()\n",
    "plt.ylabel('cancel rate')\n",
    "pdf.vol.plot(secondary_y=True, style='g')\n",
    "plt.ylabel('volume')\n",
    "plt.title('cum_songs_played')"
   ]
  },
  {
   "cell_type": "markdown",
   "metadata": {},
   "source": [
    "This field possibly shows that the more songs played the less the chance of cancelation. "
   ]
  },
  {
   "cell_type": "code",
   "execution_count": 81,
   "metadata": {},
   "outputs": [
    {
     "data": {
      "text/plain": [
       "Text(0.5,1,'cum_songs_added_to_play_list')"
      ]
     },
     "execution_count": 81,
     "metadata": {},
     "output_type": "execute_result"
    },
    {
     "data": {
      "image/png": "[encoded data removed]",
      "text/plain": [
       "<matplotlib.figure.Figure at 0x7f0e20fa6518>"
      ]
     },
     "metadata": {
      "needs_background": "light"
     },
     "output_type": "display_data"
    }
   ],
   "source": [
    "pdf = spark.sql('''\n",
    "              SELECT round(cum_songs_added_to_play_list/10,0)*10 as cum_songs_added_to_play_list, \n",
    "                  avg(cancel) as cancel_rate, avg(downgrade) as downgrade_rate,\n",
    "                  count(*) as vol\n",
    "              FROM sparkify_base_data_by_day2\n",
    "              group by round(cum_songs_added_to_play_list/10,0)*10\n",
    "              order by round(cum_songs_added_to_play_list/10,0)*10\n",
    "          '''\n",
    "          ).toPandas()\n",
    "\n",
    "pdf = pdf.set_index('cum_songs_added_to_play_list')\n",
    "#pdf.plot()\n",
    "\n",
    "plt.figure()\n",
    "pdf.cancel_rate.plot()\n",
    "plt.ylabel('cancel rate')\n",
    "pdf.vol.plot(secondary_y=True, style='g')\n",
    "plt.ylabel('volume')\n",
    "plt.title('cum_songs_added_to_play_list')"
   ]
  },
  {
   "cell_type": "markdown",
   "metadata": {},
   "source": [
    "This field potentially shows the more songs added to a play list the less the chance of cancelation. "
   ]
  },
  {
   "cell_type": "code",
   "execution_count": null,
   "metadata": {},
   "outputs": [],
   "source": [
    "max_time_off\n",
    "days_as_user"
   ]
  },
  {
   "cell_type": "code",
   "execution_count": 83,
   "metadata": {},
   "outputs": [
    {
     "data": {
      "text/plain": [
       "Text(0.5,1,'days_as_user')"
      ]
     },
     "execution_count": 83,
     "metadata": {},
     "output_type": "execute_result"
    },
    {
     "data": {
      "image/png": "[encoded data removed]",
      "text/plain": [
       "<matplotlib.figure.Figure at 0x7f0e2106a860>"
      ]
     },
     "metadata": {
      "needs_background": "light"
     },
     "output_type": "display_data"
    }
   ],
   "source": [
    "pdf = spark.sql('''\n",
    "              SELECT round(days_as_user/10,0)*10 as days_as_user, \n",
    "                  avg(cancel) as cancel_rate, avg(downgrade) as downgrade_rate,\n",
    "                  count(*) as vol\n",
    "              FROM sparkify_base_data_by_day2\n",
    "              group by round(days_as_user/10,0)*10\n",
    "              order by round(days_as_user/10,0)*10\n",
    "          '''\n",
    "          ).toPandas()\n",
    "\n",
    "pdf = pdf.set_index('days_as_user')\n",
    "#pdf.plot()\n",
    "\n",
    "plt.figure()\n",
    "pdf.cancel_rate.plot()\n",
    "plt.ylabel('cancel rate')\n",
    "pdf.vol.plot(secondary_y=True, style='g')\n",
    "plt.ylabel('volume')\n",
    "plt.title('days_as_user')"
   ]
  },
  {
   "cell_type": "markdown",
   "metadata": {},
   "source": [
    "Maybe a trend of longer days as user less chance of cancelation. "
   ]
  },
  {
   "cell_type": "code",
   "execution_count": 85,
   "metadata": {},
   "outputs": [
    {
     "data": {
      "text/plain": [
       "Text(0.5,1,'max_time_off')"
      ]
     },
     "execution_count": 85,
     "metadata": {},
     "output_type": "execute_result"
    },
    {
     "data": {
      "image/png": "[encoded data removed]",
      "text/plain": [
       "<matplotlib.figure.Figure at 0x7f0e20ca52b0>"
      ]
     },
     "metadata": {
      "needs_background": "light"
     },
     "output_type": "display_data"
    }
   ],
   "source": [
    "pdf = spark.sql('''\n",
    "              SELECT round(max_time_off/5,0)*5 as max_time_off, \n",
    "                  avg(cancel) as cancel_rate, avg(downgrade) as downgrade_rate,\n",
    "                  count(*) as vol\n",
    "              FROM sparkify_base_data_by_day2\n",
    "              group by round(max_time_off/5,0)*5\n",
    "              order by round(max_time_off/5,0)*5\n",
    "          '''\n",
    "          ).toPandas()\n",
    "\n",
    "pdf = pdf.set_index('max_time_off')\n",
    "\n",
    "plt.figure()\n",
    "pdf.cancel_rate.plot()\n",
    "plt.ylabel('cancel rate')\n",
    "pdf.vol.plot(secondary_y=True, style='g')\n",
    "plt.ylabel('volume')\n",
    "plt.title('max_time_off')"
   ]
  },
  {
   "cell_type": "markdown",
   "metadata": {},
   "source": [
    "Greater - the time off, the less the cancelation rate - this doesn't seem to make much sense. This variable thus won't be used for the model. "
   ]
  },
  {
   "cell_type": "markdown",
   "metadata": {},
   "source": [
    "### 3. Variable Selection\n",
    "\n",
    "Using logistic regression - determine which variables are the most important to be included in the model. This code selectes variables step by step - which variable is most predictive, then which variable is most predictive when added to the ones already added. \n",
    "\n",
    "The variable selection is done using both the traning and validation data - this is because the sample size is soo small. If the code is applied to the full data this can only be done on the training data - where the results should be more robust. "
   ]
  },
  {
   "cell_type": "code",
   "execution_count": 7,
   "metadata": {},
   "outputs": [
    {
     "name": "stdout",
     "output_type": "stream",
     "text": [
      "cum_songs_played 0.5620806137638843 0.45917776491024886\n",
      "cum_songs_added_to_play_list 0.5550669872895913 0.49213472302644273\n",
      "cum_friends 0.5657448757586166 0.42646207295888827\n",
      "curr_songs_to_maxLw_ratio 0.5135322812051651 0.6161562318278732\n",
      "curr_songs_to_prev_ratio 0.46615458473355753 0.4222178683385582\n",
      "time_off 0.5115653269208749 0.41290291449527117\n",
      "max_time_off 0.5394709721745103 0.3770507624010808\n",
      "days_as_user 0.5679777854116569 0.39297432928006176\n",
      "1st variable selected is curr_songs_to_maxLw_ratio\n"
     ]
    }
   ],
   "source": [
    "##### Step 1. Determine 1st Variable for the Model - variable is selected as best distrminator on all the data\n",
    "\n",
    "var_list = [\"cum_songs_played\",\"cum_songs_added_to_play_list\",\"cum_friends\",\"curr_songs_to_maxLw_ratio\",\"curr_songs_to_prev_ratio\",\"time_off\",\"max_time_off\",\"days_as_user\"]\n",
    "\n",
    "it1 = {}\n",
    "\n",
    "for i in var_list:\n",
    "    train, validation = base_data_by_day2.randomSplit([0.7, 0.3], seed=42)\n",
    "    train.createOrReplaceTempView(\"train\")\n",
    "    validation.createOrReplaceTempView(\"validation\")\n",
    "    assembler = VectorAssembler(inputCols=[i],outputCol = \"features\",handleInvalid = \"skip\")\n",
    "    pipeline = Pipeline(stages=[assembler])\n",
    "    model = pipeline.fit(train)\n",
    "    train = model.transform(train)\n",
    "    lr =  LogisticRegression(maxIter=10, regParam=0.0, elasticNetParam=0,featuresCol='features',labelCol = \"cancel\")\n",
    "    lrModel = lr.fit(train)\n",
    "    pred_train = lrModel.transform(train)\n",
    "    validation = model.transform(validation)\n",
    "    pred_val = lrModel.transform(validation)\n",
    "    evaluator = BinaryClassificationEvaluator()\n",
    "    it1[i] = [evaluator.evaluate(pred_train),evaluator.evaluate(pred_val)]\n",
    "    # Prints the variable name and AUC on the training and validation data\n",
    "    print(i,evaluator.evaluate(pred_train),evaluator.evaluate(pred_val))\n",
    "    \n",
    "df1 = pd.DataFrame(it1).T\n",
    "df1[2] = 0.3*df1[1] + 0.7*df1[0]\n",
    "df1 = df1.sort_values(by=[2])\n",
    "df1 = df1.reset_index()\n",
    "var1 = df1['index'].iloc[-1]\n",
    "\n",
    "print('1st variable selected is',var1)\n"
   ]
  },
  {
   "cell_type": "code",
   "execution_count": 8,
   "metadata": {},
   "outputs": [
    {
     "name": "stdout",
     "output_type": "stream",
     "text": [
      "cum_songs_played 0.5686829268292684 0.49563868966854047\n",
      "cum_songs_added_to_play_list 0.5632998565279771 0.5368288427989925\n",
      "cum_friends 0.5693428981348637 0.4454351618530721\n",
      "curr_songs_to_maxLw_ratio 0.5135322812051651 0.6161562318278732\n",
      "curr_songs_to_prev_ratio 0.5105148531082049 0.59717868338558\n",
      "time_off 0.5256987087517933 0.42033339794533764\n",
      "max_time_off 0.5436671449067431 0.39746074820701693\n",
      "days_as_user 0.5711276901004302 0.4097693351424694\n",
      "Variables selected now are curr_songs_to_maxLw_ratio cum_songs_added_to_play_list\n"
     ]
    }
   ],
   "source": [
    "##### Step 2. Determine 2nd Variable for the Model - variable is selected as best distrminator on all the data\n",
    "\n",
    "var_list = [\"cum_songs_played\",\"cum_songs_added_to_play_list\",\"cum_friends\",\"curr_songs_to_maxLw_ratio\",\"curr_songs_to_prev_ratio\",\"time_off\",\"max_time_off\",\"days_as_user\"]\n",
    "\n",
    "it2 = {}\n",
    "\n",
    "for i in var_list:\n",
    "    train, validation = base_data_by_day2.randomSplit([0.7, 0.3], seed=42)\n",
    "    train.createOrReplaceTempView(\"train\")\n",
    "    validation.createOrReplaceTempView(\"validation\")\n",
    "    assembler = VectorAssembler(inputCols=[var1,i],outputCol = \"features\",handleInvalid = \"skip\")\n",
    "    pipeline = Pipeline(stages=[assembler])\n",
    "    model = pipeline.fit(train)\n",
    "    train = model.transform(train)\n",
    "    lr =  LogisticRegression(maxIter=10, regParam=0.0, elasticNetParam=0,featuresCol='features',labelCol = \"cancel\")\n",
    "    lrModel = lr.fit(train)\n",
    "    pred_train = lrModel.transform(train)\n",
    "    validation = model.transform(validation)\n",
    "    pred_val = lrModel.transform(validation)\n",
    "    evaluator = BinaryClassificationEvaluator()\n",
    "    it2[i] = [evaluator.evaluate(pred_train),evaluator.evaluate(pred_val)]\n",
    "    # Prints the variable name and AUC on the training and validation data\n",
    "    print(i,evaluator.evaluate(pred_train),evaluator.evaluate(pred_val))\n",
    "    \n",
    "df2 = pd.DataFrame(it2).T\n",
    "df2[2] = 0.3*df2[1] + 0.7*df2[0]\n",
    "df2 = df2.sort_values(by=[2])\n",
    "df2 = df2.reset_index()\n",
    "df2 = df2[df2['index'] != var1]\n",
    "var2 = df2['index'].iloc[-1]\n",
    "\n",
    "print('Variables selected now are',var1,var2)\n"
   ]
  },
  {
   "cell_type": "code",
   "execution_count": 10,
   "metadata": {},
   "outputs": [
    {
     "name": "stdout",
     "output_type": "stream",
     "text": [
      "cum_songs_played 0.5661692969870877 0.5094979647218456\n",
      "cum_songs_added_to_play_list 0.5632998565279771 0.5368288427989925\n",
      "cum_friends 0.5817503586800571 0.39077340569877883\n",
      "curr_songs_to_maxLw_ratio 0.5632998565279771 0.5368288427989925\n",
      "curr_songs_to_prev_ratio 0.5586806084095406 0.515086206896552\n",
      "time_off 0.5806714490674313 0.4457259158751699\n",
      "max_time_off 0.5776527977044476 0.4353556890870323\n",
      "days_as_user 0.5691936872309896 0.4538670284938942\n",
      "Variables selected now are curr_songs_to_maxLw_ratio cum_songs_added_to_play_list curr_songs_to_maxLw_ratio\n"
     ]
    }
   ],
   "source": [
    "##### Step 3. Determine 3rd Variable for the Model - variable is selected as best distrminator on all the data\n",
    "\n",
    "var_list = [\"cum_songs_played\",\"cum_songs_added_to_play_list\",\"cum_friends\",\"curr_songs_to_maxLw_ratio\",\"curr_songs_to_prev_ratio\",\"time_off\",\"max_time_off\",\"days_as_user\"]\n",
    "\n",
    "it3 = {}\n",
    "\n",
    "for i in var_list:\n",
    "    train, validation = base_data_by_day2.randomSplit([0.7, 0.3], seed=42)\n",
    "    train.createOrReplaceTempView(\"train\")\n",
    "    validation.createOrReplaceTempView(\"validation\")\n",
    "    assembler = VectorAssembler(inputCols=[var1,var2,i],outputCol = \"features\",handleInvalid = \"skip\")\n",
    "    pipeline = Pipeline(stages=[assembler])\n",
    "    model = pipeline.fit(train)\n",
    "    train = model.transform(train)\n",
    "    lr =  LogisticRegression(maxIter=10, regParam=0.0, elasticNetParam=0,featuresCol='features',labelCol = \"cancel\")\n",
    "    lrModel = lr.fit(train)\n",
    "    pred_train = lrModel.transform(train)\n",
    "    validation = model.transform(validation)\n",
    "    pred_val = lrModel.transform(validation)\n",
    "    evaluator = BinaryClassificationEvaluator()\n",
    "    it3[i] = [evaluator.evaluate(pred_train),evaluator.evaluate(pred_val)]\n",
    "    # Prints the variable name and AUC on the training and validation data\n",
    "    print(i,evaluator.evaluate(pred_train),evaluator.evaluate(pred_val))\n",
    "    \n",
    "df3 = pd.DataFrame(it3).T\n",
    "df3[2] = 0.3*df3[1] + 0.7*df3[0]\n",
    "df3 = df3.sort_values(by=[2])\n",
    "df3 = df3.reset_index()\n",
    "df3 = df3[df3['index'] != var2]\n",
    "var3 = df3['index'].iloc[-1]\n",
    "\n",
    "print('Variables selected now are',var1,var2,var3)"
   ]
  },
  {
   "cell_type": "markdown",
   "metadata": {},
   "source": [
    "The variable selection process has selected the same variable again - this means that adding any of the other variables to the model results in the discriminatory power of the model dropping. For this reason, only two variables are chosen for the the model fitting on this data. Of course, if we were to fit the model on all the data this could look different and this process would need to be repeated and would only be needed to be done on the train sample and not all the data."
   ]
  },
  {
   "cell_type": "markdown",
   "metadata": {},
   "source": [
    "### 4.1 Initial Model Fit\n",
    "\n",
    "Fit the model using all the variables on the training data and asses on the validation sample. "
   ]
  },
  {
   "cell_type": "code",
   "execution_count": 11,
   "metadata": {},
   "outputs": [
    {
     "name": "stdout",
     "output_type": "stream",
     "text": [
      "Train and Val Gini is 0.2030490732175687 -0.24725705329153647\n"
     ]
    }
   ],
   "source": [
    "train, validation = base_data_by_day2.randomSplit([0.7, 0.3], seed=42)\n",
    "train.createOrReplaceTempView(\"train\")\n",
    "validation.createOrReplaceTempView(\"validation\")\n",
    "assembler = VectorAssembler(inputCols=[\"cum_songs_played\",\"cum_songs_added_to_play_list\",\"cum_friends\",\"curr_songs_to_maxLw_ratio\",\"curr_songs_to_prev_ratio\",\"time_off\",\"max_time_off\",\"days_as_user\"],outputCol = \"features\",handleInvalid = \"skip\")\n",
    "pipeline = Pipeline(stages=[assembler])\n",
    "model = pipeline.fit(train)\n",
    "train = model.transform(train)\n",
    "lr =  LogisticRegression(maxIter=10, regParam=0.0, elasticNetParam=0,featuresCol='features',labelCol = \"cancel\")\n",
    "lrModel = lr.fit(train)\n",
    "pred_train = lrModel.transform(train)\n",
    "validation = model.transform(validation)\n",
    "pred_val = lrModel.transform(validation)\n",
    "evaluator = BinaryClassificationEvaluator()\n",
    "print(\"Train and Val Gini is\",evaluator.evaluate(pred_train)*2-1,evaluator.evaluate(pred_val)*2-1)"
   ]
  },
  {
   "cell_type": "markdown",
   "metadata": {},
   "source": [
    "Model is negative Gini on the valdiation set - might be due to low data but means the model is not generalising well onto unseen data (even if this is of small sample size)."
   ]
  },
  {
   "cell_type": "markdown",
   "metadata": {},
   "source": [
    "### 4.2 Final Model Fit\n",
    "\n",
    "Fit the model using only the 2 variables selected in the variable selection process above on the training data and asses on the validation sample. "
   ]
  },
  {
   "cell_type": "code",
   "execution_count": 11,
   "metadata": {},
   "outputs": [
    {
     "name": "stdout",
     "output_type": "stream",
     "text": [
      "Train and Val Gini is 0.1265997130559542 0.07365768559798491\n"
     ]
    }
   ],
   "source": [
    "train, validation = base_data_by_day2.randomSplit([0.7, 0.3], seed=42)\n",
    "train.createOrReplaceTempView(\"train\")\n",
    "validation.createOrReplaceTempView(\"validation\")\n",
    "assembler = VectorAssembler(inputCols=[var1,var2],outputCol = \"features\",handleInvalid = \"skip\")\n",
    "pipeline = Pipeline(stages=[assembler])\n",
    "model = pipeline.fit(train)\n",
    "train = model.transform(train)\n",
    "lr =  LogisticRegression(maxIter=10, regParam=0.0, elasticNetParam=0,featuresCol='features',labelCol = \"cancel\")\n",
    "lrModel = lr.fit(train)\n",
    "pred_train = lrModel.transform(train)\n",
    "validation = model.transform(validation)\n",
    "pred_val = lrModel.transform(validation)\n",
    "evaluator = BinaryClassificationEvaluator()\n",
    "print(\"Train and Val Gini is\",evaluator.evaluate(pred_train)*2-1,evaluator.evaluate(pred_val)*2-1)"
   ]
  },
  {
   "cell_type": "code",
   "execution_count": 12,
   "metadata": {},
   "outputs": [
    {
     "data": {
      "image/png": "[encoded data removed]",
      "text/plain": [
       "<matplotlib.figure.Figure at 0x7fa06f842550>"
      ]
     },
     "metadata": {
      "needs_background": "light"
     },
     "output_type": "display_data"
    },
    {
     "name": "stdout",
     "output_type": "stream",
     "text": [
      "Training set areaUnderROC: 0.5633228120516501\n"
     ]
    }
   ],
   "source": [
    "trainingSummary = lrModel.summary\n",
    "roc = trainingSummary.roc.toPandas()\n",
    "plt.plot(roc['FPR'],roc['TPR'])\n",
    "plt.plot(roc['FPR'],roc['FPR'])\n",
    "plt.ylabel('False Positive Rate')\n",
    "plt.xlabel('True Positive Rate')\n",
    "plt.title('ROC Curve')\n",
    "plt.show()\n",
    "print('Training set areaUnderROC: ' + str(trainingSummary.areaUnderROC))"
   ]
  },
  {
   "cell_type": "markdown",
   "metadata": {},
   "source": [
    "This model is  more stable - with still a postive Gini on the validation set. The Gini is however low. The chart above also shows that the discriminatory power of the model is close to random. It is possible that a better model could be fitted on the full dataset. This shoudl be investigated as a further step. Another further step would be finding additional features which are predictive of cancelation. "
   ]
  }
 ],
 "metadata": {
  "kernelspec": {
   "display_name": "Python 3",
   "language": "python",
   "name": "python3"
  },
  "language_info": {
   "codemirror_mode": {
    "name": "ipython",
    "version": 3
   },
   "file_extension": ".py",
   "mimetype": "text/x-python",
   "name": "python",
   "nbconvert_exporter": "python",
   "pygments_lexer": "ipython3",
   "version": "3.6.3"
  }
 },
 "nbformat": 4,
 "nbformat_minor": 2
}
